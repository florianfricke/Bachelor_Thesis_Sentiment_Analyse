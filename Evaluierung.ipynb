{
 "cells": [
  {
   "cell_type": "markdown",
   "metadata": {},
   "source": [
    "# Evaluierung"
   ]
  },
  {
   "cell_type": "code",
   "execution_count": 50,
   "metadata": {},
   "outputs": [],
   "source": [
    "from keras.models import load_model\n",
    "import pickle\n",
    "from sklearn import metrics"
   ]
  },
  {
   "cell_type": "code",
   "execution_count": 79,
   "metadata": {},
   "outputs": [],
   "source": [
    "word_dic = pickle.load(open(\"data/labeled_sentiment_data/pickle_files/model_word_indices_embedtweets.de.200.pickle\",\"rb\"))"
   ]
  },
  {
   "cell_type": "code",
   "execution_count": 58,
   "metadata": {},
   "outputs": [],
   "source": [
    "hist = pickle.load(open(\"results_artificial_neural_network/model_history.pickle\",\"rb\"))"
   ]
  },
  {
   "cell_type": "code",
   "execution_count": 59,
   "metadata": {},
   "outputs": [],
   "source": [
    "new_model = load_model(\"results_artificial_neural_network/model_stopwords.hdf5\")"
   ]
  },
  {
   "cell_type": "code",
   "execution_count": 34,
   "metadata": {},
   "outputs": [],
   "source": [
    "testing = pickle.load(open(\"data/labeled_sentiment_data/pickle_files/testing_data_nn_stopwords.pickle\",\"rb\"))"
   ]
  },
  {
   "cell_type": "code",
   "execution_count": 13,
   "metadata": {},
   "outputs": [],
   "source": [
    "X_test = pickle.load(open(\"data/labeled_sentiment_data/pickle_files/X_test_stopwords.pickle\",\"rb\"))"
   ]
  },
  {
   "cell_type": "code",
   "execution_count": null,
   "metadata": {},
   "outputs": [],
   "source": []
  },
  {
   "cell_type": "code",
   "execution_count": 67,
   "metadata": {},
   "outputs": [],
   "source": [
    "def performance_analysis(testing, model, verbose=True, accuracy=True, confusion_matrix=True, classification_report=True):\n",
    "        y_pred = model.predict(testing[0])\n",
    "        y_pred = y_pred.argmax(axis=1)\n",
    "        metric_list = list()\n",
    "        if(accuracy):\n",
    "            accuracy = new_model.evaluate(testing[0], testing[1])\n",
    "            metric_list.append(accuracy)\n",
    "            if(verbose):\n",
    "                print(\"model accuracy: {:.4f}\".format(accuracy))\n",
    "        \n",
    "        if(confusion_matrix):\n",
    "            confusion_matrix = metrics.confusion_matrix(testing[1].argmax(axis=1), y_pred) #labels=[\"positive\", \"neutral\", \"negative\"]\n",
    "            metric_list.append(confusion_matrix)\n",
    "            if(verbose):\n",
    "                print(\"confusion matrix:\")\n",
    "                print(confusion_matrix)\n",
    "        \n",
    "        if(classification_report):\n",
    "            classification_report = metrics.classification_report(testing[1].argmax(axis=1), y_pred)\n",
    "            metric_list.append(classification_report)\n",
    "            if(verbose):\n",
    "                print(\"classification report:\")\n",
    "                print(classification_report)\n",
    "        return metric_list"
   ]
  },
  {
   "cell_type": "code",
   "execution_count": 78,
   "metadata": {},
   "outputs": [
    {
     "name": "stdout",
     "output_type": "stream",
     "text": [
      "1581/1581 [==============================] - 8s 5ms/step\n"
     ]
    }
   ],
   "source": [
    "performance = performance_analysis(testing, new_model, verbose=True, accuracy=True, confusion_matrix=True, classification_report=True)"
   ]
  },
  {
   "cell_type": "code",
   "execution_count": null,
   "metadata": {},
   "outputs": [],
   "source": []
  }
 ],
 "metadata": {
  "kernelspec": {
   "display_name": "Python 3",
   "language": "python",
   "name": "python3"
  },
  "language_info": {
   "codemirror_mode": {
    "name": "ipython",
    "version": 3
   },
   "file_extension": ".py",
   "mimetype": "text/x-python",
   "name": "python",
   "nbconvert_exporter": "python",
   "pygments_lexer": "ipython3",
   "version": "3.6.4"
  }
 },
 "nbformat": 4,
 "nbformat_minor": 2
}
